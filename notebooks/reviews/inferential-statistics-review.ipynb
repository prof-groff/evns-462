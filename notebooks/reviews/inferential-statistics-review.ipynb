{
 "cells": [
  {
   "cell_type": "markdown",
   "metadata": {},
   "source": [
    "### Summary of Tests\n",
    "\n",
    "* Shapiro-Wilk test: Used to test the null hypothesis that a sample is from a normally distributed population. \n",
    "\n",
    "* Levene test: Used to test the null hypothesis that the variances of the populations from which two or more groups are drawn are equal. \n",
    "\n",
    "* One-sample t-test: Used to compare the estimate of the population mean from a single sample to some standard of comparison like a known population mean. Requires interval or ratio scale data and assumes the population from which the sample is drawn is normally distributed.\n",
    "\n",
    "    * A nonparametric alternative to this test is called the one-sample Wilcoxon signed rank test.\n",
    "\n",
    "* Independent-samples t-test: Used to determine if two independent samples are from different populations. Requires interval or ratio scale data, assumes the populations from which the samples are drawn are normally distributed, and assumes that both samples come from populations with equal variance. \n",
    "\n",
    "    * A nonparametric alternative to this test is called the Mann-Whitney U test\n",
    "    \n",
    "* Dependent samples or paired-samples t-test: Used to determine if there is a statistically significant difference between two groups of paired data. This type of data arrises from pre-post or repeated measures experimental designs. Requires interval or ratio scale data and assumes the population from which the differences between paired measures are drawn is normally distributed.\n",
    "\n",
    "    * A nonparameteric alternative to this test is called the Wilcoxon signed rank test.\n",
    "    \n",
    "* Chi-square goodness-of-fit test: Used to test the null hypothesis that the observed frequencies of the various levels (values) of a categorical (nominal) variable are equal to a hypothesized distribution. Requires nominal data and the expected number of observations in each level of the variable to be at least 5 for at least 80% of the possible levels.\n",
    "\n",
    "* Chi-square test for independence or homogeneity: Used to test the null hypotheis that the observed frequencies of the various levels of a categorical variable are independent of the level of some other categorical variable. Requires nominal data and the expected number of observations in each level of the variable to be at least 5 for at least 80% of the possible levels.\n",
    "\n",
    "    * An alternative to chi-square tests when sample sizes are small is called Fisher's exact test. In situations where the data is paired, like a before and after experimental design, McNemar's test should be used.\n",
    "    \n",
    "* T-test on rho: Used to test the null hypothesis that the correlation between two variables from two populations is zero. Requires interval or ratio data and the residuals between the data and the line-of-best fit to be normally distributed. \n",
    "\n",
    "* Analysis of Variance (ANOVA) - If you have more than two data sets you wish to compare, you could do pairwise T-tests. However, a better approach is to do ANOVA. Think of ANOVA as testing all groups simultaneously and looking for statistical evidence that at least one of the groups is different than any of the others. ANOVA assumes the data in all groups is normally distributed and of equal variance. \n",
    "\n",
    "    * If the assumption of normallity and equal variance are not met, a non-parameteric version of ANOVA called Kruskal-Wallis may be appropriate. \n",
    "    * ANOVA an Kruskal-Wallis are followed up by a post-hoc test to determine which group or groups are statistically different than others. For ANOVA the Tukey test is a possibility; for Kruskal-Wallis the Dunn test is an option. \n",
    "\n"
   ]
  },
  {
   "cell_type": "code",
   "execution_count": null,
   "metadata": {},
   "outputs": [],
   "source": []
  }
 ],
 "metadata": {
  "kernelspec": {
   "display_name": "Python 3",
   "language": "python",
   "name": "python3"
  },
  "language_info": {
   "codemirror_mode": {
    "name": "ipython",
    "version": 3
   },
   "file_extension": ".py",
   "mimetype": "text/x-python",
   "name": "python",
   "nbconvert_exporter": "python",
   "pygments_lexer": "ipython3",
   "version": "3.7.6"
  }
 },
 "nbformat": 4,
 "nbformat_minor": 2
}
