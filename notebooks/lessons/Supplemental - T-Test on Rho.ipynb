{
 "cells": [
  {
   "cell_type": "markdown",
   "metadata": {
    "_cell_guid": "cf40190e-4ebf-4a2e-8e5b-1d30164f9c74",
    "_uuid": "e73e536b1c5b44bfe0015cfdb2e4d031d6d4cbeb"
   },
   "source": [
    "## Linear Regression\n",
    "A common experimental design calls for some independent variable (or predictor variable) of interval or ratio scale to be systematically varied and the resulting dependent variable (or outcome variable) to be measured. An analysis is then performed to see if there is a correlation between the two variables. Even when an experiment such as this is not carried out, a researcher may look for correlation between two variables without even if they have no good idea of which variable is the predictor and which is the outcome. In all of these situations, a T-test can be performed on the Pearson's correlation coefficient for the relationship between the variables. The null hypothesis is that there is no correlation between the two variables at the population level. \n",
    "\n",
    "After this notebook you will know:\n",
    "* how to make scatter plots of data using python.\n",
    "* how to fit scatter plots with lines of best fit.\n",
    "* how to perform a T-test for &rho; (the population correlation coefficient) using r (the sample correlation coefficient). "
   ]
  },
  {
   "cell_type": "markdown",
   "metadata": {
    "_cell_guid": "b3296b0c-eb2f-4886-b54b-4a8cd12dbdd7",
    "_uuid": "c070713f2c711df50418f4137e60055b12dab7ab"
   },
   "source": [
    "### The Data and Null Hypotheis\n",
    "\n",
    "In this notebook a dataset will be explored to see if there is a coorelation between temperature and the requency of cricket chirps. \n",
    "\n",
    "Dataset Name: cricketchirps.csv\n",
    "\n",
    "Title: Cricket Chirps vs. Temperature\n",
    "\n",
    "Source: The Song of Insects by Dr.G.W. Pierce, Harvard College Press\n",
    "\n",
    "Description:\n",
    "\n",
    "X = chirps/sec for the striped ground cricket\n",
    "\n",
    "Y = temperature in degrees Fahrenheit\n",
    "\n",
    "The null and alternative hypotheses are as follows:\n",
    "\n",
    "* H<sub>0</sub>: There is no correlation between temperature and cricket chirp frequency.\n",
    "* H<sub>A</sub>: Temperature and cricket chirp frequency are correlated.\n",
    "\n",
    "The following cell will import the cricket chirps data into a pandas dataframe."
   ]
  },
  {
   "cell_type": "code",
   "execution_count": 1,
   "metadata": {
    "_cell_guid": "bf24efc1-e20f-4817-bd72-52ebe0ca96a0",
    "_uuid": "eb3e15689e95e9c1118ec39a48b2497af59e3b23"
   },
   "outputs": [],
   "source": [
    "import numpy as np\n",
    "import pandas as pd\n",
    "import matplotlib.pyplot as plt\n",
    "import scipy.stats as stats # some useful stuff\n",
    "url = \"https://raw.githubusercontent.com/prof-groff/evns462/master/data/cricketchirps.csv\"\n",
    "crickets = pd.read_csv(url)"
   ]
  },
  {
   "cell_type": "code",
   "execution_count": 2,
   "metadata": {},
   "outputs": [
    {
     "name": "stdout",
     "output_type": "stream",
     "text": [
      "(15, 2)\n"
     ]
    },
    {
     "data": {
      "text/html": [
       "<div>\n",
       "<style scoped>\n",
       "    .dataframe tbody tr th:only-of-type {\n",
       "        vertical-align: middle;\n",
       "    }\n",
       "\n",
       "    .dataframe tbody tr th {\n",
       "        vertical-align: top;\n",
       "    }\n",
       "\n",
       "    .dataframe thead th {\n",
       "        text-align: right;\n",
       "    }\n",
       "</style>\n",
       "<table border=\"1\" class=\"dataframe\">\n",
       "  <thead>\n",
       "    <tr style=\"text-align: right;\">\n",
       "      <th></th>\n",
       "      <th>X chirps/sec</th>\n",
       "      <th>Y temperature</th>\n",
       "    </tr>\n",
       "  </thead>\n",
       "  <tbody>\n",
       "    <tr>\n",
       "      <th>0</th>\n",
       "      <td>20.000000</td>\n",
       "      <td>88.599998</td>\n",
       "    </tr>\n",
       "    <tr>\n",
       "      <th>1</th>\n",
       "      <td>16.000000</td>\n",
       "      <td>71.599998</td>\n",
       "    </tr>\n",
       "    <tr>\n",
       "      <th>2</th>\n",
       "      <td>19.799999</td>\n",
       "      <td>93.300003</td>\n",
       "    </tr>\n",
       "    <tr>\n",
       "      <th>3</th>\n",
       "      <td>18.400000</td>\n",
       "      <td>84.300003</td>\n",
       "    </tr>\n",
       "    <tr>\n",
       "      <th>4</th>\n",
       "      <td>17.100000</td>\n",
       "      <td>80.599998</td>\n",
       "    </tr>\n",
       "  </tbody>\n",
       "</table>\n",
       "</div>"
      ],
      "text/plain": [
       "   X chirps/sec  Y temperature\n",
       "0     20.000000      88.599998\n",
       "1     16.000000      71.599998\n",
       "2     19.799999      93.300003\n",
       "3     18.400000      84.300003\n",
       "4     17.100000      80.599998"
      ]
     },
     "execution_count": 2,
     "metadata": {},
     "output_type": "execute_result"
    }
   ],
   "source": [
    "print(crickets.shape)\n",
    "crickets.head(5)"
   ]
  },
  {
   "cell_type": "markdown",
   "metadata": {},
   "source": [
    "### Temperature Versus Cricket Chirp Frequency\n",
    "\n",
    "Can cricket chirp frequency predict temperature? Let's make a scatter plot and fit it with a line of best fit (linear regression) to explore the relationship between these two variables."
   ]
  },
  {
   "cell_type": "code",
   "execution_count": 3,
   "metadata": {},
   "outputs": [
    {
     "data": {
      "image/png": "[encoded data removed]",
      "text/plain": [
       "<Figure size 288x216 with 1 Axes>"
      ]
     },
     "metadata": {
      "needs_background": "light"
     },
     "output_type": "display_data"
    }
   ],
   "source": [
    "x = crickets['X chirps/sec']\n",
    "y = crickets['Y temperature']\n",
    "plt.figure(figsize=(4,3))\n",
    "plt.scatter(x,y)\n",
    "plt.xlabel('chirps/sec');\n",
    "plt.ylabel('temperature (deg. F)')\n",
    "plt.show()"
   ]
  },
  {
   "cell_type": "markdown",
   "metadata": {},
   "source": [
    "### Linear Regression\n",
    "\n",
    "Doing linear regression in Python is not too difficult but it does require some code that can be nebulous to a beginner. To make the process easier I've written a Python function that returns data to plot a line of best fit when you pass it the raw data used to make a scatterplot. "
   ]
  },
  {
   "cell_type": "code",
   "execution_count": 4,
   "metadata": {},
   "outputs": [],
   "source": [
    "# Groff's Linear Regression Function\n",
    "# To use copy and paste this code into an empty cell in your notebook.\n",
    "# Then, run that cell to gain access to the function\n",
    "def linReg_Groff(xs, ys):\n",
    "    from sklearn import linear_model\n",
    "    regr = linear_model.LinearRegression()\n",
    "    \n",
    "    xs = np.array(xs)\n",
    "    ys = np.array(ys)\n",
    "\n",
    "    # fit the model\n",
    "    xs = xs.reshape(-1,1) # need to reshape so there is only one column ...\n",
    "    ys = ys.reshape(-1,1)\n",
    "    regr.fit(xs,ys) # ... because this function can't handle pandas data well.\n",
    "\n",
    "    # define limits for the line-of-best-fit\n",
    "    x_fit = np.array([min(xs), max(xs)]).reshape(-1,1) # only need two points to make a line\n",
    "    y_fit = regr.predict(x_fit)\n",
    "    \n",
    "    r_sq = regr.score(xs,ys)\n",
    "    \n",
    "    return x_fit, y_fit, r_sq"
   ]
  },
  {
   "cell_type": "code",
   "execution_count": 5,
   "metadata": {},
   "outputs": [
    {
     "data": {
      "image/png": "[encoded data removed]",
      "text/plain": [
       "<Figure size 360x216 with 1 Axes>"
      ]
     },
     "metadata": {
      "needs_background": "light"
     },
     "output_type": "display_data"
    }
   ],
   "source": [
    "# Let's plot the data and apply the line-of-best-fit\n",
    "plt.figure(figsize=(5,3))\n",
    "plt.scatter(x,y)\n",
    "plt.xlabel('chirps/sec');\n",
    "plt.ylabel('temperature (deg. F)')\n",
    "\n",
    "x_fit, y_fit, r_sq = linReg_Groff(x,y)\n",
    "\n",
    "plt.plot(x_fit, y_fit ,c='r') \n",
    "plt.savefig('fig1.png',dpi=300)\n",
    "plt.show()"
   ]
  },
  {
   "cell_type": "code",
   "execution_count": 6,
   "metadata": {},
   "outputs": [
    {
     "name": "stdout",
     "output_type": "stream",
     "text": [
      "r^2: 0.6974651450167398\n",
      "r: 0.8351437870311554\n"
     ]
    }
   ],
   "source": [
    "# The coefficent of determination, r^2, is calculated for us too\n",
    "print('r^2:', r_sq)\n",
    "# The Pearson's correlation coefficient is the squareroot of this\n",
    "r = np.sqrt(r_sq)\n",
    "print('r:', r)"
   ]
  },
  {
   "cell_type": "markdown",
   "metadata": {},
   "source": [
    "### T-Test on Rho\n",
    "\n",
    "Is this correlation coefficient statistically signification. To find out we do a T-test. Our hypotheses from above given as pure statistical statements are as follows.\n",
    "\n",
    "* H<sub>0</sub>: &rho; = 0 at &alpha; = 0.05\n",
    "* H<sub>A</sub>: &rho; not equal to 0. \n",
    "\n",
    "The test statistic for a t-test on rho is given by the following. \n",
    "\n",
    "t = (r sqrt(N-2))/sqrt(1 - r^2)\n",
    "\n",
    "where\n",
    "\n",
    "r is Pearson's correlation coefficient, N is the number of (x,y) pairs in the data sample, and there are N-2 degrees of freedom.\n",
    "\n",
    "**What is the degrees of freedom and the t-critical value (two-tail) for the cricket data?**\n",
    "\n",
    "df = N-2 = 15-2 = 13\n",
    "\n",
    "t-critical = 2.16036866 "
   ]
  },
  {
   "cell_type": "code",
   "execution_count": 7,
   "metadata": {
    "_cell_guid": "57c02446-664b-4cf6-a66a-1b3c2395e2dc",
    "_uuid": "134fb568bab52c074dc9e7c10f3d67f5c3184a56"
   },
   "outputs": [
    {
     "name": "stdout",
     "output_type": "stream",
     "text": [
      "t = 5.474509607824955\n"
     ]
    }
   ],
   "source": [
    "# now let's calculate the t-statistic based on r and N\n",
    "N = len(x)\n",
    "t = r*np.sqrt(N-2)/np.sqrt(1-r**2)\n",
    "print('t =', t)"
   ]
  },
  {
   "cell_type": "code",
   "execution_count": 8,
   "metadata": {},
   "outputs": [
    {
     "name": "stdout",
     "output_type": "stream",
     "text": [
      "r = 0.8351437870311552 p-value =  0.00010667185499560143\n"
     ]
    }
   ],
   "source": [
    "# There is a built in python function for doing a t-test on the population correlation coefficient rho.\n",
    "r, pvalue = stats.pearsonr(x,y)\n",
    "print('r =', r, 'p-value = ',pvalue)"
   ]
  },
  {
   "cell_type": "markdown",
   "metadata": {},
   "source": [
    "### Intepreting the Result\n",
    "Since the t-statistic is greater than t-critical we reject the null and accept the alternative hypothesis. There is a population level coorelation between cricket chirping frequency and temperature. \n",
    "\n",
    "There is a different test called ther Spearman R Test to look test for correlations between rank-order (ordinal at best) data. The python function for this test is called stats.spearmanr() and it is used exactly like stats.pearsonr(). One can also calculate 95% confidence intervals on the population coorelation coefficent from the sample r using a procedure called the Fisher r-to-z transformation. "
   ]
  },
  {
   "cell_type": "code",
   "execution_count": null,
   "metadata": {},
   "outputs": [],
   "source": []
  }
 ],
 "metadata": {
  "kernelspec": {
   "display_name": "Python 3",
   "language": "python",
   "name": "python3"
  },
  "language_info": {
   "codemirror_mode": {
    "name": "ipython",
    "version": 3
   },
   "file_extension": ".py",
   "mimetype": "text/x-python",
   "name": "python",
   "nbconvert_exporter": "python",
   "pygments_lexer": "ipython3",
   "version": "3.7.6"
  }
 },
 "nbformat": 4,
 "nbformat_minor": 1
}
