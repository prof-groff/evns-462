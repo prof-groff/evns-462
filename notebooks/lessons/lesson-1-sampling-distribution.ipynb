{
 "cells": [
  {
   "cell_type": "markdown",
   "metadata": {},
   "source": [
    "## Population versus Sample Statistics\n",
    "\n",
    "Below a data set is imported containing information about the 69 unique Pokemon in the first english language set printed in 1999 (the \"base set\")."
   ]
  },
  {
   "cell_type": "code",
   "execution_count": 1,
   "metadata": {},
   "outputs": [
    {
     "data": {
      "text/html": [
       "<div>\n",
       "<style scoped>\n",
       "    .dataframe tbody tr th:only-of-type {\n",
       "        vertical-align: middle;\n",
       "    }\n",
       "\n",
       "    .dataframe tbody tr th {\n",
       "        vertical-align: top;\n",
       "    }\n",
       "\n",
       "    .dataframe thead th {\n",
       "        text-align: right;\n",
       "    }\n",
       "</style>\n",
       "<table border=\"1\" class=\"dataframe\">\n",
       "  <thead>\n",
       "    <tr style=\"text-align: right;\">\n",
       "      <th></th>\n",
       "      <th>Set</th>\n",
       "      <th>Name</th>\n",
       "      <th>Number</th>\n",
       "      <th>HP</th>\n",
       "      <th>Rarity</th>\n",
       "    </tr>\n",
       "  </thead>\n",
       "  <tbody>\n",
       "    <tr>\n",
       "      <th>0</th>\n",
       "      <td>Base</td>\n",
       "      <td>Alakazam</td>\n",
       "      <td>1</td>\n",
       "      <td>80</td>\n",
       "      <td>Rare Holo</td>\n",
       "    </tr>\n",
       "    <tr>\n",
       "      <th>1</th>\n",
       "      <td>Base</td>\n",
       "      <td>Blastoise</td>\n",
       "      <td>2</td>\n",
       "      <td>100</td>\n",
       "      <td>Rare Holo</td>\n",
       "    </tr>\n",
       "    <tr>\n",
       "      <th>2</th>\n",
       "      <td>Base</td>\n",
       "      <td>Chansey</td>\n",
       "      <td>3</td>\n",
       "      <td>120</td>\n",
       "      <td>Rare Holo</td>\n",
       "    </tr>\n",
       "    <tr>\n",
       "      <th>3</th>\n",
       "      <td>Base</td>\n",
       "      <td>Charizard</td>\n",
       "      <td>4</td>\n",
       "      <td>120</td>\n",
       "      <td>Rare Holo</td>\n",
       "    </tr>\n",
       "    <tr>\n",
       "      <th>4</th>\n",
       "      <td>Base</td>\n",
       "      <td>Clefairy</td>\n",
       "      <td>5</td>\n",
       "      <td>40</td>\n",
       "      <td>Rare Holo</td>\n",
       "    </tr>\n",
       "    <tr>\n",
       "      <th>5</th>\n",
       "      <td>Base</td>\n",
       "      <td>Gyarados</td>\n",
       "      <td>6</td>\n",
       "      <td>100</td>\n",
       "      <td>Rare Holo</td>\n",
       "    </tr>\n",
       "    <tr>\n",
       "      <th>6</th>\n",
       "      <td>Base</td>\n",
       "      <td>Hitmonchan</td>\n",
       "      <td>7</td>\n",
       "      <td>70</td>\n",
       "      <td>Rare Holo</td>\n",
       "    </tr>\n",
       "    <tr>\n",
       "      <th>7</th>\n",
       "      <td>Base</td>\n",
       "      <td>Machamp</td>\n",
       "      <td>8</td>\n",
       "      <td>100</td>\n",
       "      <td>Rare Holo</td>\n",
       "    </tr>\n",
       "    <tr>\n",
       "      <th>8</th>\n",
       "      <td>Base</td>\n",
       "      <td>Magneton</td>\n",
       "      <td>9</td>\n",
       "      <td>60</td>\n",
       "      <td>Rare Holo</td>\n",
       "    </tr>\n",
       "    <tr>\n",
       "      <th>9</th>\n",
       "      <td>Base</td>\n",
       "      <td>Mewtwo</td>\n",
       "      <td>10</td>\n",
       "      <td>60</td>\n",
       "      <td>Rare Holo</td>\n",
       "    </tr>\n",
       "  </tbody>\n",
       "</table>\n",
       "</div>"
      ],
      "text/plain": [
       "    Set        Name  Number   HP     Rarity\n",
       "0  Base    Alakazam       1   80  Rare Holo\n",
       "1  Base   Blastoise       2  100  Rare Holo\n",
       "2  Base     Chansey       3  120  Rare Holo\n",
       "3  Base   Charizard       4  120  Rare Holo\n",
       "4  Base    Clefairy       5   40  Rare Holo\n",
       "5  Base    Gyarados       6  100  Rare Holo\n",
       "6  Base  Hitmonchan       7   70  Rare Holo\n",
       "7  Base     Machamp       8  100  Rare Holo\n",
       "8  Base    Magneton       9   60  Rare Holo\n",
       "9  Base      Mewtwo      10   60  Rare Holo"
      ]
     },
     "execution_count": 1,
     "metadata": {},
     "output_type": "execute_result"
    }
   ],
   "source": [
    "import pandas as pd\n",
    "data = pd.read_csv('https://raw.githubusercontent.com/prof-groff/evns-462/refs/heads/master/data/pokemon_baseset.csv')\n",
    "data.head(10)"
   ]
  },
  {
   "cell_type": "markdown",
   "metadata": {},
   "source": [
    "Let's make a histogram showing the distribution of the HP for these Pokemon."
   ]
  },
  {
   "cell_type": "code",
   "execution_count": 2,
   "metadata": {},
   "outputs": [
    {
     "data": {
      "text/plain": [
       "<function matplotlib.pyplot.show(*args, **kw)>"
      ]
     },
     "execution_count": 2,
     "metadata": {},
     "output_type": "execute_result"
    }
   ],
   "source": [
    "import matplotlib.pyplot as plt\n",
    "plt.hist(data['HP'], bins=[20,30,40,50,60,70,80,90,100,110,120])\n",
    "plt.xlabel('HP')\n",
    "plt.ylabel('Frequency')\n",
    "plt.show"
   ]
  },
  {
   "cell_type": "markdown",
   "metadata": {},
   "source": [
    "Does this data look normally distributed (bell-shaped curve)?\n",
    "\n",
    "Since this data set contains ALL examples of Pokemon in the base set, it represents the **population** of base set Pokemon. Thus we can calculate population statistics for HP. "
   ]
  },
  {
   "cell_type": "code",
   "execution_count": 3,
   "metadata": {},
   "outputs": [
    {
     "data": {
      "text/plain": [
       "61.88405797101449"
      ]
     },
     "execution_count": 3,
     "metadata": {},
     "output_type": "execute_result"
    }
   ],
   "source": [
    "import numpy as np\n",
    "np.mean(data['HP'])"
   ]
  },
  {
   "cell_type": "code",
   "execution_count": 4,
   "metadata": {},
   "outputs": [
    {
     "data": {
      "text/plain": [
       "22.668075125816983"
      ]
     },
     "execution_count": 4,
     "metadata": {},
     "output_type": "execute_result"
    }
   ],
   "source": [
    "np.std(data['HP'])"
   ]
  },
  {
   "cell_type": "markdown",
   "metadata": {},
   "source": [
    "We can also take a sample from this data set and calculate the mean and standard deviation of this sample."
   ]
  },
  {
   "cell_type": "code",
   "execution_count": 5,
   "metadata": {},
   "outputs": [
    {
     "data": {
      "text/html": [
       "<div>\n",
       "<style scoped>\n",
       "    .dataframe tbody tr th:only-of-type {\n",
       "        vertical-align: middle;\n",
       "    }\n",
       "\n",
       "    .dataframe tbody tr th {\n",
       "        vertical-align: top;\n",
       "    }\n",
       "\n",
       "    .dataframe thead th {\n",
       "        text-align: right;\n",
       "    }\n",
       "</style>\n",
       "<table border=\"1\" class=\"dataframe\">\n",
       "  <thead>\n",
       "    <tr style=\"text-align: right;\">\n",
       "      <th></th>\n",
       "      <th>Set</th>\n",
       "      <th>Name</th>\n",
       "      <th>Number</th>\n",
       "      <th>HP</th>\n",
       "      <th>Rarity</th>\n",
       "    </tr>\n",
       "  </thead>\n",
       "  <tbody>\n",
       "    <tr>\n",
       "      <th>58</th>\n",
       "      <td>Base</td>\n",
       "      <td>Poliwag</td>\n",
       "      <td>59</td>\n",
       "      <td>40</td>\n",
       "      <td>Common</td>\n",
       "    </tr>\n",
       "    <tr>\n",
       "      <th>50</th>\n",
       "      <td>Base</td>\n",
       "      <td>Koffing</td>\n",
       "      <td>51</td>\n",
       "      <td>50</td>\n",
       "      <td>Common</td>\n",
       "    </tr>\n",
       "    <tr>\n",
       "      <th>27</th>\n",
       "      <td>Base</td>\n",
       "      <td>Growlithe</td>\n",
       "      <td>28</td>\n",
       "      <td>60</td>\n",
       "      <td>Uncommon</td>\n",
       "    </tr>\n",
       "  </tbody>\n",
       "</table>\n",
       "</div>"
      ],
      "text/plain": [
       "     Set       Name  Number  HP    Rarity\n",
       "58  Base    Poliwag      59  40    Common\n",
       "50  Base    Koffing      51  50    Common\n",
       "27  Base  Growlithe      28  60  Uncommon"
      ]
     },
     "metadata": {},
     "output_type": "display_data"
    },
    {
     "data": {
      "text/html": [
       "<div>\n",
       "<style scoped>\n",
       "    .dataframe tbody tr th:only-of-type {\n",
       "        vertical-align: middle;\n",
       "    }\n",
       "\n",
       "    .dataframe tbody tr th {\n",
       "        vertical-align: top;\n",
       "    }\n",
       "\n",
       "    .dataframe thead th {\n",
       "        text-align: right;\n",
       "    }\n",
       "</style>\n",
       "<table border=\"1\" class=\"dataframe\">\n",
       "  <thead>\n",
       "    <tr style=\"text-align: right;\">\n",
       "      <th></th>\n",
       "      <th>Set</th>\n",
       "      <th>Name</th>\n",
       "      <th>Number</th>\n",
       "      <th>HP</th>\n",
       "      <th>Rarity</th>\n",
       "    </tr>\n",
       "  </thead>\n",
       "  <tbody>\n",
       "    <tr>\n",
       "      <th>25</th>\n",
       "      <td>Base</td>\n",
       "      <td>Dratini</td>\n",
       "      <td>26</td>\n",
       "      <td>40</td>\n",
       "      <td>Uncommon</td>\n",
       "    </tr>\n",
       "    <tr>\n",
       "      <th>2</th>\n",
       "      <td>Base</td>\n",
       "      <td>Chansey</td>\n",
       "      <td>3</td>\n",
       "      <td>120</td>\n",
       "      <td>Rare Holo</td>\n",
       "    </tr>\n",
       "    <tr>\n",
       "      <th>38</th>\n",
       "      <td>Base</td>\n",
       "      <td>Porygon</td>\n",
       "      <td>39</td>\n",
       "      <td>30</td>\n",
       "      <td>Uncommon</td>\n",
       "    </tr>\n",
       "    <tr>\n",
       "      <th>35</th>\n",
       "      <td>Base</td>\n",
       "      <td>Magmar</td>\n",
       "      <td>36</td>\n",
       "      <td>50</td>\n",
       "      <td>Uncommon</td>\n",
       "    </tr>\n",
       "    <tr>\n",
       "      <th>64</th>\n",
       "      <td>Base</td>\n",
       "      <td>Staryu</td>\n",
       "      <td>65</td>\n",
       "      <td>40</td>\n",
       "      <td>Common</td>\n",
       "    </tr>\n",
       "    <tr>\n",
       "      <th>13</th>\n",
       "      <td>Base</td>\n",
       "      <td>Raichu</td>\n",
       "      <td>14</td>\n",
       "      <td>80</td>\n",
       "      <td>Rare Holo</td>\n",
       "    </tr>\n",
       "  </tbody>\n",
       "</table>\n",
       "</div>"
      ],
      "text/plain": [
       "     Set     Name  Number   HP     Rarity\n",
       "25  Base  Dratini      26   40   Uncommon\n",
       "2   Base  Chansey       3  120  Rare Holo\n",
       "38  Base  Porygon      39   30   Uncommon\n",
       "35  Base   Magmar      36   50   Uncommon\n",
       "64  Base   Staryu      65   40     Common\n",
       "13  Base   Raichu      14   80  Rare Holo"
      ]
     },
     "metadata": {},
     "output_type": "display_data"
    }
   ],
   "source": [
    "sample3 = data.sample(3)\n",
    "display(sample3)\n",
    "sample6 = data.sample(6)\n",
    "display(sample6)"
   ]
  },
  {
   "cell_type": "code",
   "execution_count": 6,
   "metadata": {},
   "outputs": [
    {
     "name": "stdout",
     "output_type": "stream",
     "text": [
      "50.0\n"
     ]
    }
   ],
   "source": [
    "mean3 = np.mean(sample3['HP'])\n",
    "print(mean3)"
   ]
  },
  {
   "cell_type": "code",
   "execution_count": 7,
   "metadata": {},
   "outputs": [
    {
     "name": "stdout",
     "output_type": "stream",
     "text": [
      "60.0\n"
     ]
    }
   ],
   "source": [
    "mean6 = np.mean(sample6['HP'])\n",
    "print(mean6)"
   ]
  },
  {
   "cell_type": "code",
   "execution_count": 8,
   "metadata": {},
   "outputs": [
    {
     "name": "stdout",
     "output_type": "stream",
     "text": [
      "10.0\n",
      "34.058772731852805\n"
     ]
    }
   ],
   "source": [
    "# note the use of ddof=1 here because these are standard deviations of samples with n-1 degrees of freedom\n",
    "std3 = np.std(sample3['HP'], ddof=1)\n",
    "std6 = np.std(sample6['HP'], ddof=1)\n",
    "print(std3)\n",
    "print(std6)"
   ]
  },
  {
   "cell_type": "markdown",
   "metadata": {},
   "source": [
    "Now let's calculated 95% confidence intervals for these sample means using estimates for the standard error of the sample means."
   ]
  },
  {
   "cell_type": "code",
   "execution_count": 9,
   "metadata": {},
   "outputs": [
    {
     "name": "stdout",
     "output_type": "stream",
     "text": [
      "For the n=3 sample we have xbar =  50.0 , 95% CI [ 38.68 ,  61.32 ]\n",
      "For the n=6 sample we have xbar =  60.0 , 95% CI [ 32.75 ,  87.25 ]\n"
     ]
    }
   ],
   "source": [
    "se3 = std3/np.sqrt(3)\n",
    "se6 = std6/np.sqrt(6)\n",
    "print('For the n=3 sample we have xbar = ', np.round(mean3,2), \", 95% CI [\", np.round(mean3-se3*1.96,2), \", \", np.round(mean3+se3*1.96,2), \"]\")\n",
    "print('For the n=6 sample we have xbar = ', np.round(mean6,2), \", 95% CI [\", np.round(mean6-se6*1.96,2), \", \", np.round(mean6+se6*1.96,2), \"]\")"
   ]
  },
  {
   "cell_type": "markdown",
   "metadata": {},
   "source": [
    "If we sampled from this population repeatedly and built a histogram of the sample means we would have a sampling distribution or distribution of sample means."
   ]
  },
  {
   "cell_type": "code",
   "execution_count": 10,
   "metadata": {},
   "outputs": [],
   "source": [
    "xbars = np.zeros(200)\n",
    "for ii in np.arange(0,200):\n",
    "    xbars[ii] = np.mean(data.sample(3)['HP'])"
   ]
  },
  {
   "cell_type": "code",
   "execution_count": 11,
   "metadata": {},
   "outputs": [
    {
     "data": {
      "text/plain": [
       "Text(0, 0.5, 'Frequency')"
      ]
     },
     "execution_count": 11,
     "metadata": {},
     "output_type": "execute_result"
    },
    {
     "data": {
      "image/png": "[encoded data removed]",
      "text/plain": [
       "<Figure size 432x288 with 1 Axes>"
      ]
     },
     "metadata": {
      "needs_background": "light"
     },
     "output_type": "display_data"
    }
   ],
   "source": [
    "plt.hist(xbars,bins=[10,20,30,40,50,60,70,80,90,100,120])\n",
    "plt.xlabel('mean HP')\n",
    "plt.ylabel('Frequency')"
   ]
  },
  {
   "cell_type": "code",
   "execution_count": 12,
   "metadata": {},
   "outputs": [
    {
     "data": {
      "text/plain": [
       "Text(0, 0.5, 'Frequency')"
      ]
     },
     "execution_count": 12,
     "metadata": {},
     "output_type": "execute_result"
    },
    {
     "data": {
      "image/png": "[encoded data removed]",
      "text/plain": [
       "<Figure size 432x288 with 1 Axes>"
      ]
     },
     "metadata": {
      "needs_background": "light"
     },
     "output_type": "display_data"
    }
   ],
   "source": [
    "xbars = np.zeros(200)\n",
    "for ii in np.arange(0,200):\n",
    "    xbars[ii] = np.mean(data.sample(6)['HP'])\n",
    "plt.hist(xbars,bins=[10,20,30,40,50,60,70,80,90,100,120])\n",
    "plt.xlabel('mean HP')\n",
    "plt.ylabel('Frequency')"
   ]
  },
  {
   "cell_type": "markdown",
   "metadata": {},
   "source": [
    "Notice that the distribution of sample means is tighter (has less variance) when the sample size is larger. "
   ]
  }
 ],
 "metadata": {
  "kernelspec": {
   "display_name": "Python 3",
   "language": "python",
   "name": "python3"
  },
  "language_info": {
   "codemirror_mode": {
    "name": "ipython",
    "version": 3
   },
   "file_extension": ".py",
   "mimetype": "text/x-python",
   "name": "python",
   "nbconvert_exporter": "python",
   "pygments_lexer": "ipython3",
   "version": "3.7.3"
  }
 },
 "nbformat": 4,
 "nbformat_minor": 2
}
