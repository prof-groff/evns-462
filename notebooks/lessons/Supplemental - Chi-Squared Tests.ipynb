{
 "cells": [
  {
   "cell_type": "markdown",
   "metadata": {},
   "source": [
    "## Chi Squared Tests\n",
    "\n",
    "In this notebook a chopped down version of the UFOs data set from unit 8 is explored. This data only includes data for UFO sightings in California and Texas and UFOs that have the five most prevelant shapes, circles, fireballs, orbs, lights, or triangles. Two hypotheses are tested. The first is as follows:\n",
    "\n",
    "* H<sub>0</sub>: In CA (or TX) all shapes of UFOs are equally observed.\n",
    "* H<sub>A</sub>: Some shapes are observed more often than others.\n",
    "\n",
    "To test this hypothesis, one must compare the distribution of sittings to what would be expected if all shapes where equally likely. This involves doing a statistical test called the **chi square goodness of fit test**.\n",
    "\n",
    "The second hypothesis tested is:\n",
    "\n",
    "* H<sub>0</sub>: The relative frequency of the UFO shapes observed in CA is identical to what is observed in TX. Or stated another way, adjusting for any differences in the total amount of observations, the prevelance of the different shaped UFOs are the same in CA and TX.\n",
    "* H<sub>A</sub>: The relative frequency of the UFO shapes observed in CA is different than what is observed in TX\n",
    "\n",
    "To test this hypotheis, one must compare the observations of different shapes to what would be expected if the relative frequency of the different shapes was the same in TX and CA. This involves doing a statistical test called the **chi square test for uniformity or homogeneity**. \n",
    "\n",
    "Both of these hypothesis will be tested at the &alpha; = 0.05 significance level."
   ]
  },
  {
   "cell_type": "code",
   "execution_count": 1,
   "metadata": {},
   "outputs": [],
   "source": [
    "# Import some useful packages.\n",
    "import numpy as np\n",
    "import pandas as pd\n",
    "import matplotlib.pyplot as plt\n",
    "import scipy.stats as stats # some useful stuff"
   ]
  },
  {
   "cell_type": "code",
   "execution_count": 2,
   "metadata": {},
   "outputs": [
    {
     "data": {
      "text/html": [
       "<div>\n",
       "<style scoped>\n",
       "    .dataframe tbody tr th:only-of-type {\n",
       "        vertical-align: middle;\n",
       "    }\n",
       "\n",
       "    .dataframe tbody tr th {\n",
       "        vertical-align: top;\n",
       "    }\n",
       "\n",
       "    .dataframe thead th {\n",
       "        text-align: right;\n",
       "    }\n",
       "</style>\n",
       "<table border=\"1\" class=\"dataframe\">\n",
       "  <thead>\n",
       "    <tr style=\"text-align: right;\">\n",
       "      <th></th>\n",
       "      <th>date</th>\n",
       "      <th>shape</th>\n",
       "      <th>location</th>\n",
       "      <th>state</th>\n",
       "    </tr>\n",
       "  </thead>\n",
       "  <tbody>\n",
       "    <tr>\n",
       "      <th>0</th>\n",
       "      <td>7/9/16</td>\n",
       "      <td>Circle</td>\n",
       "      <td>Lakeside</td>\n",
       "      <td>CA</td>\n",
       "    </tr>\n",
       "    <tr>\n",
       "      <th>1</th>\n",
       "      <td>7/7/16</td>\n",
       "      <td>Circle</td>\n",
       "      <td>Laguna Hills</td>\n",
       "      <td>CA</td>\n",
       "    </tr>\n",
       "    <tr>\n",
       "      <th>2</th>\n",
       "      <td>7/6/16</td>\n",
       "      <td>Circle</td>\n",
       "      <td>Lincoln and Roseville</td>\n",
       "      <td>CA</td>\n",
       "    </tr>\n",
       "    <tr>\n",
       "      <th>3</th>\n",
       "      <td>7/4/16</td>\n",
       "      <td>Circle</td>\n",
       "      <td>Elk Grove</td>\n",
       "      <td>CA</td>\n",
       "    </tr>\n",
       "    <tr>\n",
       "      <th>4</th>\n",
       "      <td>7/4/16</td>\n",
       "      <td>Circle</td>\n",
       "      <td>Channel Islands Point Magu</td>\n",
       "      <td>CA</td>\n",
       "    </tr>\n",
       "  </tbody>\n",
       "</table>\n",
       "</div>"
      ],
      "text/plain": [
       "     date    shape                     location state\n",
       "0  7/9/16  Circle                     Lakeside     CA\n",
       "1  7/7/16  Circle                 Laguna Hills     CA\n",
       "2  7/6/16  Circle        Lincoln and Roseville     CA\n",
       "3  7/4/16  Circle                    Elk Grove     CA\n",
       "4  7/4/16  Circle   Channel Islands Point Magu     CA"
      ]
     },
     "execution_count": 2,
     "metadata": {},
     "output_type": "execute_result"
    }
   ],
   "source": [
    "# Import a chopped down version of the UFOs data set via github.\n",
    "url = \"https://raw.githubusercontent.com/prof-groff/evns462/master/data/ufos_ca_tx.csv\"\n",
    "ufos = pd.read_csv(url) \n",
    "ufos.head()"
   ]
  },
  {
   "cell_type": "code",
   "execution_count": 3,
   "metadata": {},
   "outputs": [
    {
     "data": {
      "text/plain": [
       "array(['Circle ', 'Fireball ', 'Lights Only ', 'Orb/Sphere ', 'Triangle '],\n",
       "      dtype=object)"
      ]
     },
     "execution_count": 3,
     "metadata": {},
     "output_type": "execute_result"
    }
   ],
   "source": [
    "# There are five unique UFO shapes in this dataset.\n",
    "ufos['shape'].unique()"
   ]
  },
  {
   "cell_type": "code",
   "execution_count": 4,
   "metadata": {},
   "outputs": [
    {
     "data": {
      "text/plain": [
       "array(['CA', 'TX'], dtype=object)"
      ]
     },
     "execution_count": 4,
     "metadata": {},
     "output_type": "execute_result"
    }
   ],
   "source": [
    "# There is data for CA and TX in this dataset. \n",
    "ufos['state'].unique()"
   ]
  },
  {
   "cell_type": "markdown",
   "metadata": {},
   "source": [
    "### Contingency Tables Summarize the Number of Observations of Different Categorical Values (Columns) for Each Group in the Data (Rows)\n",
    "\n",
    "To test the hypotheses above, we must figure out how many times each categorical value (shape) occurs in the data set for each group (state). We can easily calculate these counts by using a built in pandas method called crosstab. Contingency tables are sometimes called crosstab tables."
   ]
  },
  {
   "cell_type": "code",
   "execution_count": 5,
   "metadata": {},
   "outputs": [
    {
     "data": {
      "text/html": [
       "<div>\n",
       "<style scoped>\n",
       "    .dataframe tbody tr th:only-of-type {\n",
       "        vertical-align: middle;\n",
       "    }\n",
       "\n",
       "    .dataframe tbody tr th {\n",
       "        vertical-align: top;\n",
       "    }\n",
       "\n",
       "    .dataframe thead th {\n",
       "        text-align: right;\n",
       "    }\n",
       "</style>\n",
       "<table border=\"1\" class=\"dataframe\">\n",
       "  <thead>\n",
       "    <tr style=\"text-align: right;\">\n",
       "      <th>shape</th>\n",
       "      <th>Circle</th>\n",
       "      <th>Fireball</th>\n",
       "      <th>Lights Only</th>\n",
       "      <th>Orb/Sphere</th>\n",
       "      <th>Triangle</th>\n",
       "    </tr>\n",
       "    <tr>\n",
       "      <th>state</th>\n",
       "      <th></th>\n",
       "      <th></th>\n",
       "      <th></th>\n",
       "      <th></th>\n",
       "      <th></th>\n",
       "    </tr>\n",
       "  </thead>\n",
       "  <tbody>\n",
       "    <tr>\n",
       "      <th>CA</th>\n",
       "      <td>35</td>\n",
       "      <td>50</td>\n",
       "      <td>92</td>\n",
       "      <td>32</td>\n",
       "      <td>25</td>\n",
       "    </tr>\n",
       "    <tr>\n",
       "      <th>TX</th>\n",
       "      <td>9</td>\n",
       "      <td>6</td>\n",
       "      <td>26</td>\n",
       "      <td>10</td>\n",
       "      <td>10</td>\n",
       "    </tr>\n",
       "  </tbody>\n",
       "</table>\n",
       "</div>"
      ],
      "text/plain": [
       "shape  Circle   Fireball   Lights Only   Orb/Sphere   Triangle \n",
       "state                                                          \n",
       "CA          35         50            92           32         25\n",
       "TX           9          6            26           10         10"
      ]
     },
     "execution_count": 5,
     "metadata": {},
     "output_type": "execute_result"
    }
   ],
   "source": [
    "ufo_obs = pd.crosstab(index=ufos['state'], columns = ufos['shape'])\n",
    "ufo_obs"
   ]
  },
  {
   "cell_type": "code",
   "execution_count": 6,
   "metadata": {},
   "outputs": [],
   "source": [
    "# Let's pull out the list of shapes, the CA row, and the TX row into separate\n",
    "# variables to make them easier to work with.\n",
    "shapes = ufo_obs.columns\n",
    "ca_obs = ufo_obs.loc['CA']\n",
    "tx_obs = ufo_obs.loc['TX']"
   ]
  },
  {
   "cell_type": "code",
   "execution_count": 7,
   "metadata": {},
   "outputs": [
    {
     "data": {
      "image/png": "[encoded data removed]",
      "text/plain": [
       "<Figure size 288x288 with 1 Axes>"
      ]
     },
     "metadata": {
      "needs_background": "light"
     },
     "output_type": "display_data"
    }
   ],
   "source": [
    "# Let's look at the data on one bar plot.\n",
    "plt.figure(figsize=(4,4))\n",
    "plt.bar(shapes, ca_obs, color='m', alpha=0.5)\n",
    "plt.bar(shapes, tx_obs, color='y', alpha=0.5)\n",
    "plt.ylabel('counts')\n",
    "plt.xlabel('shapes')\n",
    "plt.xticks(rotation=90)\n",
    "plt.legend(['CA', 'TX'])\n",
    "plt.tight_layout() # helps with formating when saving the figure\n",
    "plt.savefig('ufos1.png', dpi=300)\n",
    "plt.show()"
   ]
  },
  {
   "cell_type": "code",
   "execution_count": 8,
   "metadata": {},
   "outputs": [
    {
     "data": {
      "image/png": "[encoded data removed]",
      "text/plain": [
       "<Figure size 576x288 with 2 Axes>"
      ]
     },
     "metadata": {
      "needs_background": "light"
     },
     "output_type": "display_data"
    }
   ],
   "source": [
    "# Let's look at the data side by side (subplots).\n",
    "plt.figure(figsize=(8,4));\n",
    "plt.subplot(1,2,1)\n",
    "plt.bar(shapes, ca_obs, color='m')\n",
    "plt.xlabel('shapes')\n",
    "plt.xticks(rotation=90)\n",
    "plt.ylabel('counts')\n",
    "plt.ylim([0, 100])\n",
    "plt.subplot(1,2,2)\n",
    "plt.bar(shapes, tx_obs, color='y')\n",
    "plt.xlabel('shapes')\n",
    "plt.xticks(rotation=90)\n",
    "plt.ylabel('counts')\n",
    "plt.ylim([0, 100])\n",
    "plt.tight_layout()\n",
    "plt.savefig('ufos2.png', dpi=300)\n",
    "plt.show()\n"
   ]
  },
  {
   "cell_type": "markdown",
   "metadata": {},
   "source": [
    "## Hypothesis One\n",
    "\n",
    "* H<sub>0</sub>: In CA all shapes of UFOs are equally observed.\n",
    "* H<sub>A</sub>: Some shapes are observed more often than others.\n",
    "\n",
    "The test statistic for this hypothesis is chi squared:\n",
    "\n",
    "&chi;<sup>2</sup> = SUM((n_expected - n_observed)^2/n_expected) \n",
    "\n",
    "where the sum is over all categorical values (here the different shapes).\n",
    "\n",
    "The critical value for &chi;<sup>2</sup> above which we reject the null hypothesis depends on the degrees of freedom in our dataset. The degrees of freedom is always one less than then number of categorical values in our data (dof = k-1, where k is the number of columns in the contingency table).\n",
    "\n",
    "For our data that means dof = 5 - 1 = 4. We can look up the X<sup>2</sup>-critical value for dof = 4 and &alpha; = 0.05 in a table.\n",
    "\n",
    "[chi-square table](https://www.medcalc.org/manual/chi-square-table.php)\n",
    "\n",
    "X<sup>2</sup>-critical = 9.488"
   ]
  },
  {
   "cell_type": "code",
   "execution_count": 9,
   "metadata": {},
   "outputs": [
    {
     "data": {
      "text/plain": [
       "46.8"
      ]
     },
     "execution_count": 9,
     "metadata": {},
     "output_type": "execute_result"
    }
   ],
   "source": [
    "# Now let's calculate chi squared. First, we need to calculate\n",
    "# what we would expect to see in the CA data if all shapes were equally\n",
    "# prevalent. This is the total number of observation divided by the number\n",
    "# of unique shapes in the data set.\n",
    "ca_exp = sum(ca_obs)/5\n",
    "ca_exp"
   ]
  },
  {
   "cell_type": "code",
   "execution_count": 10,
   "metadata": {},
   "outputs": [
    {
     "data": {
      "text/plain": [
       "array([46.8, 46.8, 46.8, 46.8, 46.8])"
      ]
     },
     "execution_count": 10,
     "metadata": {},
     "output_type": "execute_result"
    }
   ],
   "source": [
    "# This value is how many of each shape we would expect to see so make an\n",
    "# array that matches the shape of ca_obs and has this value repeated.\n",
    "ca_exp = ca_exp * np.ones(5)\n",
    "ca_exp"
   ]
  },
  {
   "cell_type": "code",
   "execution_count": 11,
   "metadata": {},
   "outputs": [
    {
     "data": {
      "text/plain": [
       "shape\n",
       "Circle          11.8\n",
       "Fireball        -3.2\n",
       "Lights Only    -45.2\n",
       "Orb/Sphere      14.8\n",
       "Triangle        21.8\n",
       "Name: CA, dtype: float64"
      ]
     },
     "execution_count": 11,
     "metadata": {},
     "output_type": "execute_result"
    }
   ],
   "source": [
    "# calculated the differences between the observation and the expected\n",
    "diff = ca_exp - ca_obs\n",
    "diff"
   ]
  },
  {
   "cell_type": "code",
   "execution_count": 12,
   "metadata": {},
   "outputs": [
    {
     "data": {
      "text/plain": [
       "shape\n",
       "Circle           139.24\n",
       "Fireball          10.24\n",
       "Lights Only     2043.04\n",
       "Orb/Sphere       219.04\n",
       "Triangle         475.24\n",
       "Name: CA, dtype: float64"
      ]
     },
     "execution_count": 12,
     "metadata": {},
     "output_type": "execute_result"
    }
   ],
   "source": [
    "# square these differences\n",
    "diff_sq = diff**2\n",
    "diff_sq"
   ]
  },
  {
   "cell_type": "code",
   "execution_count": 13,
   "metadata": {},
   "outputs": [
    {
     "data": {
      "text/plain": [
       "shape\n",
       "Circle           2.975214\n",
       "Fireball         0.218803\n",
       "Lights Only     43.654701\n",
       "Orb/Sphere       4.680342\n",
       "Triangle        10.154701\n",
       "Name: CA, dtype: float64"
      ]
     },
     "execution_count": 13,
     "metadata": {},
     "output_type": "execute_result"
    }
   ],
   "source": [
    "# divide each squared difference by the number of expected observations\n",
    "diff_sq_norm = diff_sq/ca_exp\n",
    "diff_sq_norm"
   ]
  },
  {
   "cell_type": "code",
   "execution_count": 14,
   "metadata": {},
   "outputs": [
    {
     "name": "stdout",
     "output_type": "stream",
     "text": [
      "chi squared =  61.68376068376068\n"
     ]
    }
   ],
   "source": [
    "# sum these all up to find chi squared\n",
    "chi_squared = sum(diff_sq_norm)\n",
    "print('chi squared = ', chi_squared)"
   ]
  },
  {
   "cell_type": "markdown",
   "metadata": {},
   "source": [
    "Chi squared is much larger than the critical value so we REJECT the null hypothesis and accept the alternative. Different shaped UFOs are observed with different frequencies. In the next cell a method that is part of the stats package is used to do all of the work for us and compute an exact p-value as well. Neat!"
   ]
  },
  {
   "cell_type": "code",
   "execution_count": 15,
   "metadata": {},
   "outputs": [
    {
     "name": "stdout",
     "output_type": "stream",
     "text": [
      "chi squared =  61.68376068376068 , p =  1.2839267935127693e-12\n"
     ]
    }
   ],
   "source": [
    "chi2, p = stats.chisquare(ca_obs)\n",
    "print('chi squared = ', chi2, ', p = ', p)"
   ]
  },
  {
   "cell_type": "code",
   "execution_count": 16,
   "metadata": {},
   "outputs": [
    {
     "name": "stdout",
     "output_type": "stream",
     "text": [
      "chi squared =  20.393442622950822 , p =  0.0004175524820444574\n"
     ]
    }
   ],
   "source": [
    "# What about Texas? Reject the null here as well. \n",
    "chi2, p = stats.chisquare(tx_obs)\n",
    "print('chi squared = ', chi2, ', p = ', p)"
   ]
  },
  {
   "cell_type": "markdown",
   "metadata": {},
   "source": [
    "## Hypothesis Two\n",
    "\n",
    "* H<sub>0</sub>: The frequency of the various UFO shapes observed in CA is identical to what is observed in TX. \n",
    "* H<sub>A</sub>: The frequency of the various UFO shapes observed in CA is different than what is observed in TX\n",
    "\n",
    "To test this hypothesis we will use the same contingency table but now we aggregate all of the data in each category (columns, shapes) in order to determine the expected values assuming the frequency of all categories is the same in both groups (rows, states). In other words, we assume the distribution of the varous shapes does not depend on the state and the expected value of the element in the r<sup>th</sup> row and the c<sup>th</sup> column is\n",
    "\n",
    "expected<sub>r,c</sub> = n<sub>r</sub>n<sub>c</sub>/n, \n",
    "\n",
    "where n<sub>r</sub> is the total number of observations in group r (row r sum), n<sub>c</sub> is the total number of observations of category value c (column c sum), and n is the total number of obsvations in all groups and columns.\n",
    "\n",
    "After the expected values are calculated, the chi-squared statistic is found using the same formula as above but summing over all columns and rows.\n",
    "\n",
    "expected<sub>rc</sub> = n<sub>r</sub>n<sub>c</sub>/n, \n",
    "\n",
    "where n<sub>r</sub> is the total number of observations in sub-group r and n<sub>c</sub> is the total number of observations of category value c.\n",
    "\n",
    "The critical vlaue of &chi;<sup>2</sup> is found in the [same table as before](https://www.medcalc.org/manual/chi-square-table.php) but now the degrees of freedom depend on the number of rows and columns,\n",
    "\n",
    "dof = (r-1)(c-1).\n",
    "\n",
    "For the contingency table in this case, dof = (2-1)(5-1) = 4 and \n",
    "\n",
    "X<sup>2</sup>-critical = 9.488\n",
    "\n",
    "Let's proceed."
   ]
  },
  {
   "cell_type": "code",
   "execution_count": 17,
   "metadata": {},
   "outputs": [
    {
     "data": {
      "text/plain": [
       "shape\n",
       "Circle           44\n",
       "Fireball         56\n",
       "Lights Only     118\n",
       "Orb/Sphere       42\n",
       "Triangle         35\n",
       "dtype: int64"
      ]
     },
     "execution_count": 17,
     "metadata": {},
     "output_type": "execute_result"
    }
   ],
   "source": [
    "# find the column sums by adding \n",
    "n_c = ca_obs + tx_obs\n",
    "n_c"
   ]
  },
  {
   "cell_type": "code",
   "execution_count": 18,
   "metadata": {},
   "outputs": [
    {
     "data": {
      "text/plain": [
       "295"
      ]
     },
     "execution_count": 18,
     "metadata": {},
     "output_type": "execute_result"
    }
   ],
   "source": [
    "# find the total of all observations\n",
    "n = sum(n_c)\n",
    "n"
   ]
  },
  {
   "cell_type": "code",
   "execution_count": 19,
   "metadata": {},
   "outputs": [
    {
     "name": "stdout",
     "output_type": "stream",
     "text": [
      "n_ca =  234 , n_tx =  61\n"
     ]
    }
   ],
   "source": [
    "# find the row sums (here they are n_ca and n_tx for clarity)\n",
    "n_ca = sum(ca_obs)\n",
    "n_tx = sum(tx_obs)\n",
    "print('n_ca = ', n_ca, ', n_tx = ', n_tx)"
   ]
  },
  {
   "cell_type": "code",
   "execution_count": 20,
   "metadata": {},
   "outputs": [
    {
     "data": {
      "text/plain": [
       "shape\n",
       "Circle          34.901695\n",
       "Fireball        44.420339\n",
       "Lights Only     93.600000\n",
       "Orb/Sphere      33.315254\n",
       "Triangle        27.762712\n",
       "dtype: float64"
      ]
     },
     "execution_count": 20,
     "metadata": {},
     "output_type": "execute_result"
    }
   ],
   "source": [
    "# calculate the expected number of observations for the CA data\n",
    "ca_exp = n_c*n_ca/n\n",
    "ca_exp"
   ]
  },
  {
   "cell_type": "code",
   "execution_count": 21,
   "metadata": {},
   "outputs": [
    {
     "data": {
      "text/plain": [
       "shape\n",
       "Circle           9.098305\n",
       "Fireball        11.579661\n",
       "Lights Only     24.400000\n",
       "Orb/Sphere       8.684746\n",
       "Triangle         7.237288\n",
       "dtype: float64"
      ]
     },
     "execution_count": 21,
     "metadata": {},
     "output_type": "execute_result"
    }
   ],
   "source": [
    "# and for the TX data\n",
    "tx_exp = n_c*n_tx/n\n",
    "tx_exp"
   ]
  },
  {
   "cell_type": "code",
   "execution_count": 22,
   "metadata": {},
   "outputs": [
    {
     "ename": "NameError",
     "evalue": "name 'ca_counts' is not defined",
     "output_type": "error",
     "traceback": [
      "\u001b[0;31m---------------------------------------------------------------------------\u001b[0m",
      "\u001b[0;31mNameError\u001b[0m                                 Traceback (most recent call last)",
      "\u001b[0;32m<ipython-input-22-910c79496196>\u001b[0m in \u001b[0;36m<module>\u001b[0;34m\u001b[0m\n\u001b[1;32m      1\u001b[0m \u001b[0;31m# finally calculate chi squared\u001b[0m\u001b[0;34m\u001b[0m\u001b[0;34m\u001b[0m\u001b[0;34m\u001b[0m\u001b[0m\n\u001b[0;32m----> 2\u001b[0;31m \u001b[0mchi2\u001b[0m \u001b[0;34m=\u001b[0m \u001b[0msum\u001b[0m\u001b[0;34m(\u001b[0m\u001b[0;34m(\u001b[0m\u001b[0mca_exp\u001b[0m \u001b[0;34m-\u001b[0m \u001b[0mca_counts\u001b[0m\u001b[0;34m)\u001b[0m\u001b[0;34m**\u001b[0m\u001b[0;36m2\u001b[0m\u001b[0;34m/\u001b[0m\u001b[0mca_exp\u001b[0m \u001b[0;34m+\u001b[0m \u001b[0;34m(\u001b[0m\u001b[0mtx_exp\u001b[0m \u001b[0;34m-\u001b[0m \u001b[0mtx_counts\u001b[0m\u001b[0;34m)\u001b[0m\u001b[0;34m**\u001b[0m\u001b[0;36m2\u001b[0m\u001b[0;34m/\u001b[0m\u001b[0mtx_exp\u001b[0m\u001b[0;34m)\u001b[0m\u001b[0;34m\u001b[0m\u001b[0;34m\u001b[0m\u001b[0m\n\u001b[0m\u001b[1;32m      3\u001b[0m \u001b[0mprint\u001b[0m\u001b[0;34m(\u001b[0m\u001b[0;34m'chi squared = '\u001b[0m\u001b[0;34m,\u001b[0m \u001b[0mchi2\u001b[0m\u001b[0;34m)\u001b[0m\u001b[0;34m\u001b[0m\u001b[0;34m\u001b[0m\u001b[0m\n",
      "\u001b[0;31mNameError\u001b[0m: name 'ca_counts' is not defined"
     ]
    }
   ],
   "source": [
    "# finally calculate chi squared\n",
    "chi2 = sum((ca_exp - ca_counts)**2/ca_exp + (tx_exp - tx_counts)**2/tx_exp)\n",
    "print('chi squared = ', chi2)"
   ]
  },
  {
   "cell_type": "markdown",
   "metadata": {},
   "source": [
    "&chi;<sup>2</sup> is not larger than the critical value so we must ACCEPT the null hypotehsis and reject the alternative. In other words, there is no difference between the frequency the different shaped UFOs are observed in CA and TX, statistically speaking. In the next cell a method in the stats package is used to do all of the hard work for us. We simply feed it the contingency table."
   ]
  },
  {
   "cell_type": "code",
   "execution_count": null,
   "metadata": {},
   "outputs": [],
   "source": [
    "chi2, p, dof, exp = stats.chi2_contingency(ufo_obs)\n",
    "print('chi squared = ', chi2, ', p = ', p, ', dof = ', dof)\n",
    "exp"
   ]
  },
  {
   "cell_type": "code",
   "execution_count": null,
   "metadata": {},
   "outputs": [],
   "source": []
  }
 ],
 "metadata": {
  "kernelspec": {
   "display_name": "Python 3",
   "language": "python",
   "name": "python3"
  },
  "language_info": {
   "codemirror_mode": {
    "name": "ipython",
    "version": 3
   },
   "file_extension": ".py",
   "mimetype": "text/x-python",
   "name": "python",
   "nbconvert_exporter": "python",
   "pygments_lexer": "ipython3",
   "version": "3.7.6"
  }
 },
 "nbformat": 4,
 "nbformat_minor": 4
}
