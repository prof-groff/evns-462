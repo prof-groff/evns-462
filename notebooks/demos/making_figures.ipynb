{
 "cells": [
  {
   "cell_type": "markdown",
   "id": "08786a89",
   "metadata": {},
   "source": [
    "# Making Figures\n",
    "\n",
    "This notebook uses dataset about penguins to demonstrate how to make a variety of figures in python."
   ]
  },
  {
   "cell_type": "code",
   "execution_count": 1,
   "id": "d12f5ead",
   "metadata": {},
   "outputs": [],
   "source": [
    "# import useful tools\n",
    "import pandas as pd\n",
    "import matplotlib.pyplot as plt\n",
    "import seaborn as sns\n",
    "import numpy as np"
   ]
  },
  {
   "cell_type": "code",
   "execution_count": 2,
   "id": "1ded2031",
   "metadata": {},
   "outputs": [
    {
     "data": {
      "text/html": [
       "<div>\n",
       "<style scoped>\n",
       "    .dataframe tbody tr th:only-of-type {\n",
       "        vertical-align: middle;\n",
       "    }\n",
       "\n",
       "    .dataframe tbody tr th {\n",
       "        vertical-align: top;\n",
       "    }\n",
       "\n",
       "    .dataframe thead th {\n",
       "        text-align: right;\n",
       "    }\n",
       "</style>\n",
       "<table border=\"1\" class=\"dataframe\">\n",
       "  <thead>\n",
       "    <tr style=\"text-align: right;\">\n",
       "      <th></th>\n",
       "      <th>Unnamed: 0</th>\n",
       "      <th>species</th>\n",
       "      <th>island</th>\n",
       "      <th>bill_length_mm</th>\n",
       "      <th>bill_depth_mm</th>\n",
       "      <th>flipper_length_mm</th>\n",
       "      <th>body_mass_g</th>\n",
       "      <th>sex</th>\n",
       "      <th>year</th>\n",
       "    </tr>\n",
       "  </thead>\n",
       "  <tbody>\n",
       "    <tr>\n",
       "      <th>0</th>\n",
       "      <td>1</td>\n",
       "      <td>Adelie</td>\n",
       "      <td>Torgersen</td>\n",
       "      <td>39.1</td>\n",
       "      <td>18.7</td>\n",
       "      <td>181.0</td>\n",
       "      <td>3750.0</td>\n",
       "      <td>male</td>\n",
       "      <td>2007</td>\n",
       "    </tr>\n",
       "    <tr>\n",
       "      <th>1</th>\n",
       "      <td>2</td>\n",
       "      <td>Adelie</td>\n",
       "      <td>Torgersen</td>\n",
       "      <td>39.5</td>\n",
       "      <td>17.4</td>\n",
       "      <td>186.0</td>\n",
       "      <td>3800.0</td>\n",
       "      <td>female</td>\n",
       "      <td>2007</td>\n",
       "    </tr>\n",
       "    <tr>\n",
       "      <th>2</th>\n",
       "      <td>3</td>\n",
       "      <td>Adelie</td>\n",
       "      <td>Torgersen</td>\n",
       "      <td>40.3</td>\n",
       "      <td>18.0</td>\n",
       "      <td>195.0</td>\n",
       "      <td>3250.0</td>\n",
       "      <td>female</td>\n",
       "      <td>2007</td>\n",
       "    </tr>\n",
       "    <tr>\n",
       "      <th>3</th>\n",
       "      <td>4</td>\n",
       "      <td>Adelie</td>\n",
       "      <td>Torgersen</td>\n",
       "      <td>NaN</td>\n",
       "      <td>NaN</td>\n",
       "      <td>NaN</td>\n",
       "      <td>NaN</td>\n",
       "      <td>NaN</td>\n",
       "      <td>2007</td>\n",
       "    </tr>\n",
       "    <tr>\n",
       "      <th>4</th>\n",
       "      <td>5</td>\n",
       "      <td>Adelie</td>\n",
       "      <td>Torgersen</td>\n",
       "      <td>36.7</td>\n",
       "      <td>19.3</td>\n",
       "      <td>193.0</td>\n",
       "      <td>3450.0</td>\n",
       "      <td>female</td>\n",
       "      <td>2007</td>\n",
       "    </tr>\n",
       "    <tr>\n",
       "      <th>...</th>\n",
       "      <td>...</td>\n",
       "      <td>...</td>\n",
       "      <td>...</td>\n",
       "      <td>...</td>\n",
       "      <td>...</td>\n",
       "      <td>...</td>\n",
       "      <td>...</td>\n",
       "      <td>...</td>\n",
       "      <td>...</td>\n",
       "    </tr>\n",
       "    <tr>\n",
       "      <th>339</th>\n",
       "      <td>340</td>\n",
       "      <td>Chinstrap</td>\n",
       "      <td>Dream</td>\n",
       "      <td>55.8</td>\n",
       "      <td>19.8</td>\n",
       "      <td>207.0</td>\n",
       "      <td>4000.0</td>\n",
       "      <td>male</td>\n",
       "      <td>2009</td>\n",
       "    </tr>\n",
       "    <tr>\n",
       "      <th>340</th>\n",
       "      <td>341</td>\n",
       "      <td>Chinstrap</td>\n",
       "      <td>Dream</td>\n",
       "      <td>43.5</td>\n",
       "      <td>18.1</td>\n",
       "      <td>202.0</td>\n",
       "      <td>3400.0</td>\n",
       "      <td>female</td>\n",
       "      <td>2009</td>\n",
       "    </tr>\n",
       "    <tr>\n",
       "      <th>341</th>\n",
       "      <td>342</td>\n",
       "      <td>Chinstrap</td>\n",
       "      <td>Dream</td>\n",
       "      <td>49.6</td>\n",
       "      <td>18.2</td>\n",
       "      <td>193.0</td>\n",
       "      <td>3775.0</td>\n",
       "      <td>male</td>\n",
       "      <td>2009</td>\n",
       "    </tr>\n",
       "    <tr>\n",
       "      <th>342</th>\n",
       "      <td>343</td>\n",
       "      <td>Chinstrap</td>\n",
       "      <td>Dream</td>\n",
       "      <td>50.8</td>\n",
       "      <td>19.0</td>\n",
       "      <td>210.0</td>\n",
       "      <td>4100.0</td>\n",
       "      <td>male</td>\n",
       "      <td>2009</td>\n",
       "    </tr>\n",
       "    <tr>\n",
       "      <th>343</th>\n",
       "      <td>344</td>\n",
       "      <td>Chinstrap</td>\n",
       "      <td>Dream</td>\n",
       "      <td>50.2</td>\n",
       "      <td>18.7</td>\n",
       "      <td>198.0</td>\n",
       "      <td>3775.0</td>\n",
       "      <td>female</td>\n",
       "      <td>2009</td>\n",
       "    </tr>\n",
       "  </tbody>\n",
       "</table>\n",
       "<p>344 rows × 9 columns</p>\n",
       "</div>"
      ],
      "text/plain": [
       "     Unnamed: 0    species     island  bill_length_mm  bill_depth_mm  \\\n",
       "0             1     Adelie  Torgersen            39.1           18.7   \n",
       "1             2     Adelie  Torgersen            39.5           17.4   \n",
       "2             3     Adelie  Torgersen            40.3           18.0   \n",
       "3             4     Adelie  Torgersen             NaN            NaN   \n",
       "4             5     Adelie  Torgersen            36.7           19.3   \n",
       "..          ...        ...        ...             ...            ...   \n",
       "339         340  Chinstrap      Dream            55.8           19.8   \n",
       "340         341  Chinstrap      Dream            43.5           18.1   \n",
       "341         342  Chinstrap      Dream            49.6           18.2   \n",
       "342         343  Chinstrap      Dream            50.8           19.0   \n",
       "343         344  Chinstrap      Dream            50.2           18.7   \n",
       "\n",
       "     flipper_length_mm  body_mass_g     sex  year  \n",
       "0                181.0       3750.0    male  2007  \n",
       "1                186.0       3800.0  female  2007  \n",
       "2                195.0       3250.0  female  2007  \n",
       "3                  NaN          NaN     NaN  2007  \n",
       "4                193.0       3450.0  female  2007  \n",
       "..                 ...          ...     ...   ...  \n",
       "339              207.0       4000.0    male  2009  \n",
       "340              202.0       3400.0  female  2009  \n",
       "341              193.0       3775.0    male  2009  \n",
       "342              210.0       4100.0    male  2009  \n",
       "343              198.0       3775.0  female  2009  \n",
       "\n",
       "[344 rows x 9 columns]"
      ]
     },
     "execution_count": 2,
     "metadata": {},
     "output_type": "execute_result"
    }
   ],
   "source": [
    "# import and preview the penguins dataset\n",
    "data = pd.read_csv('https://raw.githubusercontent.com/prof-groff/evns-462/master/data/penguins.csv')\n",
    "data"
   ]
  },
  {
   "cell_type": "markdown",
   "id": "a57dad37",
   "metadata": {},
   "source": [
    "## Histograms"
   ]
  },
  {
   "cell_type": "code",
   "execution_count": 3,
   "id": "3fe89ed7",
   "metadata": {},
   "outputs": [
    {
     "data": {
      "image/png": "[encoded data removed]",
      "text/plain": [
       "<Figure size 432x432 with 1 Axes>"
      ]
     },
     "metadata": {
      "needs_background": "light"
     },
     "output_type": "display_data"
    }
   ],
   "source": [
    "# create a new plot of a specified size\n",
    "plt.figure(figsize = (6, 6))\n",
    "\n",
    "# make a histogram\n",
    "plt.hist(data['body_mass_g'])\n",
    "\n",
    "# mofify axes labels\n",
    "plt.xlabel('Body Mass (g)', fontsize=14)\n",
    "plt.ylabel('Frequency', fontsize=14)\n",
    "\n",
    "# save the figure to a .png\n",
    "plt.savefig('histogram.png', dpi = 600)\n",
    "\n",
    "# display figure in the notebook\n",
    "plt.show()"
   ]
  },
  {
   "cell_type": "code",
   "execution_count": 4,
   "id": "06bceffb",
   "metadata": {},
   "outputs": [
    {
     "data": {
      "image/png": "[encoded data removed]",
      "text/plain": [
       "<Figure size 432x432 with 1 Axes>"
      ]
     },
     "metadata": {
      "needs_background": "light"
     },
     "output_type": "display_data"
    }
   ],
   "source": [
    "# create a more complicated histogram using seaborn\n",
    "plt.figure(figsize = (6, 6))\n",
    "\n",
    "# make a histogram\n",
    "sns.histplot(data=data, x=\"body_mass_g\", hue=\"species\", palette = ['red', 'yellow', 'blue'], alpha = 0.2)\n",
    "\n",
    "# mofify axes labels\n",
    "plt.xlabel('Body Mass (g)', fontsize=14)\n",
    "plt.ylabel('Frequency', fontsize=14)\n",
    "\n",
    "# save the figure to a .png\n",
    "plt.savefig('histogram2.png', dpi = 600)\n",
    "\n",
    "# display figure in the notebook\n",
    "plt.show()"
   ]
  },
  {
   "cell_type": "markdown",
   "id": "46a5912a",
   "metadata": {},
   "source": [
    "## Scatterplot"
   ]
  },
  {
   "cell_type": "code",
   "execution_count": 5,
   "id": "2fc9a0cc",
   "metadata": {},
   "outputs": [
    {
     "data": {
      "image/png": "[encoded data removed]",
      "text/plain": [
       "<Figure size 432x432 with 1 Axes>"
      ]
     },
     "metadata": {
      "needs_background": "light"
     },
     "output_type": "display_data"
    }
   ],
   "source": [
    "# store x and y data to be plotted in variables\n",
    "x = data['bill_length_mm']\n",
    "y = data['flipper_length_mm']\n",
    "\n",
    "# create a new plot of a specified size\n",
    "plt.figure(figsize=(6,6))\n",
    "\n",
    "# make scatter plot\n",
    "plt.scatter(x,y, marker = 'o', s = 15)\n",
    "\n",
    "# specify custom x and y axis limits\n",
    "plt.xlim([20, 70])\n",
    "plt.ylim([160, 250])\n",
    "\n",
    "# specify the x and y axis tick mark sizes\n",
    "plt.xticks(fontsize=12)\n",
    "plt.yticks(fontsize=12)\n",
    "\n",
    "# specify x and y axis lables\n",
    "plt.xlabel('Bill Length (mm)', fontsize=14)\n",
    "plt.ylabel('Flipper Length (mm)', fontsize=14)\n",
    "\n",
    "# save the figure to a .png\n",
    "plt.savefig('scatter.png', dpi = 600)\n",
    "\n",
    "# display figure in the notebook\n",
    "plt.show()"
   ]
  },
  {
   "cell_type": "markdown",
   "id": "b75058dc",
   "metadata": {},
   "source": [
    "## Box and Whisker Plots"
   ]
  },
  {
   "cell_type": "code",
   "execution_count": 6,
   "id": "0af7ffae",
   "metadata": {},
   "outputs": [
    {
     "data": {
      "image/png": "[encoded data removed]",
      "text/plain": [
       "<Figure size 432x432 with 1 Axes>"
      ]
     },
     "metadata": {
      "needs_background": "light"
     },
     "output_type": "display_data"
    }
   ],
   "source": [
    "# store data to be plotted, but get rid of NaN values too\n",
    "valid_data = data['bill_length_mm'] > 0\n",
    "x = data['bill_length_mm'][valid_data]\n",
    "\n",
    "# create a new plot of a specified size\n",
    "plt.figure(figsize=(6,6))\n",
    "\n",
    "# make boxplot\n",
    "plt.boxplot(x)\n",
    "\n",
    "# change x tick label\n",
    "[locs, labels] = plt.xticks()\n",
    "plt.xticks(ticks = locs, labels = ['Penguins'], fontsize = 12)\n",
    "\n",
    "# specify y axis label\n",
    "plt.ylabel('Bill Length (mm)', fontsize = 12)\n",
    "\n",
    "# save the figure to a .png\n",
    "plt.savefig('box1.png', dpi = 600)\n",
    "\n",
    "# display figure in the notebook\n",
    "plt.show()"
   ]
  },
  {
   "cell_type": "code",
   "execution_count": 7,
   "id": "b1b90b11",
   "metadata": {},
   "outputs": [
    {
     "data": {
      "image/png": "[encoded data removed]",
      "text/plain": [
       "<Figure size 432x432 with 1 Axes>"
      ]
     },
     "metadata": {
      "needs_background": "light"
     },
     "output_type": "display_data"
    }
   ],
   "source": [
    "# use seaborn to make a more complicated box plot\n",
    "\n",
    "# create a new plot of a specified size\n",
    "plt.figure(figsize=(6,6))\n",
    "\n",
    "# make boxplot, return and save handle to the plot object for later\n",
    "h = sns.boxplot(x = 'species', y = 'flipper_length_mm', hue = 'sex', data = data, palette = ['cornflowerblue', 'plum'])\n",
    "\n",
    "# modify axes labels\n",
    "plt.xlabel('Penguin Species', fontsize = 14)\n",
    "plt.ylabel('Flipper Length (mm)', fontsize = 14)\n",
    "\n",
    "# modify legend \n",
    "plt.legend(title = 'Sex')\n",
    "h.legend_.texts[0].set_text('Male')\n",
    "h.legend_.texts[1].set_text('Female')\n",
    "\n",
    "# save the figure to a .png\n",
    "plt.savefig('box2.png', dpi = 600)\n",
    "\n",
    "plt.show()"
   ]
  },
  {
   "cell_type": "markdown",
   "id": "ac668333",
   "metadata": {},
   "source": [
    "## Bar Plots"
   ]
  },
  {
   "cell_type": "code",
   "execution_count": 8,
   "id": "61e7e9c2",
   "metadata": {},
   "outputs": [
    {
     "data": {
      "image/png": "[encoded data removed]",
      "text/plain": [
       "<Figure size 432x432 with 1 Axes>"
      ]
     },
     "metadata": {
      "needs_background": "light"
     },
     "output_type": "display_data"
    }
   ],
   "source": [
    "# using seaborn to make a bar plot instead of a box and whister plot\n",
    "# use seaborn to make a more complicated box plot\n",
    "\n",
    "# create a new plot of a specified size\n",
    "plt.figure(figsize=(6,6))\n",
    "\n",
    "# make boxplot, return and save handle to the plot object for later\n",
    "h = sns.barplot(x = 'species', y = 'flipper_length_mm', hue = 'sex', data = data, palette = ['cornflowerblue', 'plum'])\n",
    "\n",
    "# modify axes labels\n",
    "plt.xlabel('Penguin Species', fontsize = 14)\n",
    "plt.ylabel('Flipper Length (mm)', fontsize = 14)\n",
    "\n",
    "# modify legend \n",
    "plt.legend(title = 'Sex')\n",
    "h.legend_.texts[0].set_text('Male')\n",
    "h.legend_.texts[1].set_text('Female')\n",
    "\n",
    "# save the figure to a .png\n",
    "plt.savefig('bar1.png', dpi = 600)\n",
    "\n",
    "plt.show()"
   ]
  },
  {
   "cell_type": "code",
   "execution_count": 9,
   "id": "8032a0bf",
   "metadata": {},
   "outputs": [
    {
     "data": {
      "image/png": "[encoded data removed]",
      "text/plain": [
       "<Figure size 432x432 with 1 Axes>"
      ]
     },
     "metadata": {
      "needs_background": "light"
     },
     "output_type": "display_data"
    }
   ],
   "source": [
    "# use seaborn to plot the count of each kind of penguin in the group\n",
    "# use seaborn to make a more complicated box plot\n",
    "\n",
    "# create a new plot of a specified size\n",
    "plt.figure(figsize=(6,6))\n",
    "\n",
    "# make boxplot, return and save handle to the plot object for later\n",
    "h = sns.countplot(x = data['species'], palette = ['seagreen', 'turquoise', 'teal'])\n",
    "\n",
    "# modify axes labels\n",
    "plt.xlabel('Penguin Species', fontsize = 14)\n",
    "plt.ylabel('Count', fontsize = 14)\n",
    "\n",
    "# save the figure to a .png\n",
    "plt.savefig('bar2.png', dpi = 600)\n",
    "\n",
    "plt.show()"
   ]
  },
  {
   "cell_type": "code",
   "execution_count": null,
   "id": "2e72a2b5",
   "metadata": {},
   "outputs": [],
   "source": []
  }
 ],
 "metadata": {
  "kernelspec": {
   "display_name": "Python 3 (ipykernel)",
   "language": "python",
   "name": "python3"
  },
  "language_info": {
   "codemirror_mode": {
    "name": "ipython",
    "version": 3
   },
   "file_extension": ".py",
   "mimetype": "text/x-python",
   "name": "python",
   "nbconvert_exporter": "python",
   "pygments_lexer": "ipython3",
   "version": "3.9.7"
  }
 },
 "nbformat": 4,
 "nbformat_minor": 5
}
